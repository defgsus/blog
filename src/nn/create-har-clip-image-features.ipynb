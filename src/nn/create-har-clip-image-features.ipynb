{
 "cells": [
  {
   "cell_type": "code",
   "execution_count": null,
   "id": "egyptian-limit",
   "metadata": {},
   "outputs": [],
   "source": [
    "import os\n",
    "import glob\n",
    "import json\n",
    "import sys\n",
    "sys.path.insert(0, \"..\")\n",
    "sys.path.insert(0, \"../har_research\")"
   ]
  },
  {
   "cell_type": "code",
   "execution_count": null,
   "id": "turkish-skill",
   "metadata": {},
   "outputs": [],
   "source": [
    "import numpy as np\n",
    "import pandas as pd\n",
    "from tqdm import tqdm\n",
    "import torch\n",
    "import clip\n",
    "from PIL import Image\n",
    "from IPython.display import display"
   ]
  },
  {
   "cell_type": "code",
   "execution_count": null,
   "id": "utility-subcommittee",
   "metadata": {},
   "outputs": [],
   "source": [
    "from har_research.image_scan import iter_image_entries"
   ]
  },
  {
   "cell_type": "code",
   "execution_count": null,
   "id": "aboriginal-dependence",
   "metadata": {},
   "outputs": [],
   "source": [
    "model, preprocess = clip.load(\"ViT-B/32\")"
   ]
  },
  {
   "cell_type": "code",
   "execution_count": null,
   "id": "greatest-egyptian",
   "metadata": {},
   "outputs": [],
   "source": [
    "labels = [\"Charlie\", \"Charlie Manson\", \"Charles Manson\"]\n",
    "text = clip.tokenize(labels).cuda()\n",
    "\n",
    "image = Image.open(\"/home/bergi/Pictures/__diverse/CHARLIE2.GIF\")\n",
    "image = preprocess(image).unsqueeze(0).cuda()\n",
    "\n",
    "with torch.no_grad():\n",
    "    logits_per_image, logits_per_text = model(image, text)\n",
    "    probs = logits_per_image.cpu().numpy()[0]\n",
    "    \n",
    "print(probs)"
   ]
  },
  {
   "cell_type": "code",
   "execution_count": null,
   "id": "important-crowd",
   "metadata": {},
   "outputs": [],
   "source": [
    "def store_har_image_features(glob_pattern: str, feature_filename: str):\n",
    "    with open(feature_filename, \"w\") as fp:\n",
    "        for e, image in iter_image_entries(glob_pattern):\n",
    "            if image.size[0] < 10:\n",
    "                continue\n",
    "            try:\n",
    "                image = preprocess(image).unsqueeze(0).cuda()\n",
    "                with torch.no_grad():\n",
    "                    features = model.encode_image(image)\n",
    "            except Exception as ex:\n",
    "                print(e[\"request\"][\"url\"], \":\", ex)\n",
    "                continue\n",
    "\n",
    "            line = '{\"url\":\"%s\",\"features\":[%s]}\\n' % (\n",
    "                e[\"request\"][\"url\"],\n",
    "                \",\".join(str(f)[:8] for f in features.cpu().numpy()[0])\n",
    "            )\n",
    "            #print(line)\n",
    "            #break\n",
    "            fp.write(line)\n",
    "\n",
    "    #print(e[\"request\"][\"url\"])\n",
    "    \n",
    "store_har_image_features(\n",
    "    \"../har_research/automatic/recordings/*/*.json\",\n",
    "    \"clip-image-features.ndjson\"\n",
    ")"
   ]
  },
  {
   "cell_type": "code",
   "execution_count": null,
   "id": "excited-mathematics",
   "metadata": {
    "pycharm": {
     "name": "#%%\n"
    }
   },
   "outputs": [],
   "source": []
  },
  {
   "cell_type": "code",
   "execution_count": null,
   "id": "marine-blink",
   "metadata": {},
   "outputs": [],
   "source": []
  },
  {
   "cell_type": "code",
   "execution_count": null,
   "id": "aggregate-mauritius",
   "metadata": {},
   "outputs": [],
   "source": []
  },
  {
   "cell_type": "code",
   "execution_count": null,
   "id": "controlling-queen",
   "metadata": {},
   "outputs": [],
   "source": []
  },
  {
   "cell_type": "code",
   "execution_count": null,
   "id": "furnished-carolina",
   "metadata": {},
   "outputs": [],
   "source": []
  }
 ],
 "metadata": {
  "kernelspec": {
   "display_name": "Python 3",
   "language": "python",
   "name": "python3"
  },
  "language_info": {
   "codemirror_mode": {
    "name": "ipython",
    "version": 3
   },
   "file_extension": ".py",
   "mimetype": "text/x-python",
   "name": "python",
   "nbconvert_exporter": "python",
   "pygments_lexer": "ipython3",
   "version": "3.6.9"
  },
  "pycharm": {
   "stem_cell": {
    "cell_type": "raw",
    "source": [],
    "metadata": {
     "collapsed": false
    }
   }
  }
 },
 "nbformat": 4,
 "nbformat_minor": 5
}