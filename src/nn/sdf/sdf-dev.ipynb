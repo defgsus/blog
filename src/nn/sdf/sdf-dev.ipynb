{
 "cells": [
  {
   "cell_type": "code",
   "execution_count": 45,
   "id": "welsh-villa",
   "metadata": {},
   "outputs": [],
   "source": [
    "from typing import Callable\n",
    "import torch\n",
    "import torch.nn as nn\n",
    "import torch.nn.functional as F\n",
    "import torchvision.transforms.functional as VF"
   ]
  },
  {
   "cell_type": "code",
   "execution_count": 132,
   "id": "intended-status",
   "metadata": {},
   "outputs": [
    {
     "data": {
      "text/plain": [
       "tensor([0.5000, 1.0000])"
      ]
     },
     "execution_count": 132,
     "metadata": {},
     "output_type": "execute_result"
    }
   ],
   "source": [
    "def dot(a: torch.Tensor, b: torch.Tensor) -> torch.Tensor:\n",
    "    return a[:, 0] * b[:, 0] + a[:, 1] * b[:, 1] + a[:, 2] * b[:, 2]\n",
    "\n",
    "def length(x: torch.Tensor) -> torch.Tensor:\n",
    "    return torch.sqrt(dot(x, x))\n",
    "\n",
    "def normalize(x: torch.Tensor) -> torch.Tensor:\n",
    "    return x / length(x).reshape(-1, 1)\n",
    "\n",
    "def sdf_sphere(pos: torch.Tensor, radius: float = 1.) -> torch.Tensor:\n",
    "    return torch.sqrt(dot(pos, pos)) - radius #+ torch.sin(pos[:, 0] * 10.) * .1\n",
    "\n",
    "def sdf_plane(pos: torch.Tensor, norm: torch.Tensor, offset: float = 0.) -> torch.Tensor:\n",
    "    if norm.ndim != 2:\n",
    "        norm = norm.reshape(1, 3).expand(pos.shape[0], -1)\n",
    "    return dot(pos, norm) - offset\n",
    "\n",
    "def sdf_plane_y(pos: torch.Tensor, offset: float = 0.) -> torch.Tensor:\n",
    "    return pos[:, 1] - offset\n",
    "    #return normalize(pos)[:, 1]\n",
    "\n",
    "#sdf_sphere(torch.Tensor([[.5,.5,0], [1,0,0]]))\n",
    "#sdf_plane_y(torch.Tensor([[.5,.5,0], [-1,0,0]]))\n",
    "#sdf_plane(torch.Tensor([[.5,.5,0], [1,0,0]]), torch.Tensor([1, 0, 0]), 0)\n",
    "#length(torch.Tensor([[.5,.5,0], [1,0,0]]))\n",
    "#torch.minimum(torch.Tensor([[1, 2], [3, 4]]), torch.Tensor([[5, 2], [3, 3]]))"
   ]
  },
  {
   "cell_type": "code",
   "execution_count": 117,
   "id": "fleet-commissioner",
   "metadata": {},
   "outputs": [],
   "source": [
    "def sdf_scene(pos: torch.Tensor) -> torch.Tensor:\n",
    "    d = sdf_sphere(pos)\n",
    "    d = torch.minimum(d, sdf_plane_y(pos))\n",
    "    #d = sdf_plane_y(pos)\n",
    "    return d"
   ]
  },
  {
   "cell_type": "code",
   "execution_count": 144,
   "id": "simplified-furniture",
   "metadata": {},
   "outputs": [
    {
     "data": {
      "image/png": "[encoded data removed]",
      "text/plain": [
       "<PIL.Image.Image image mode=RGB size=256x256 at 0x7F5B13E6C8D0>"
      ]
     },
     "execution_count": 144,
     "metadata": {},
     "output_type": "execute_result"
    }
   ],
   "source": [
    "def get_pos_grid(size: int = 256, space: float = 1.25, z: float = 0., flat: bool = False):\n",
    "    grid = torch.linspace(-space, space, size).reshape(size, 1).expand(size, -1, 3).clone()\n",
    "    grid[:,:,1] = torch.linspace(space, -space, size).reshape(size, 1).expand(-1, size)\n",
    "    grid[:,:,2] = z\n",
    "    if flat:\n",
    "        grid = grid.reshape(size * size, 3)\n",
    "    return grid\n",
    "\n",
    "def render_sdf_grid(sdf: Callable, size: int = 256, space: float = 1.25, z: float = 0., edge_width: float = 0.02):\n",
    "    grid = get_pos_grid(size=size, space=space, z=z)\n",
    "    \n",
    "    dist = sdf(grid.reshape(size*size, 3)).reshape(size, size)\n",
    "    rgb = torch.clamp(1.-torch.abs(dist) / edge_width, 0, 1).repeat(3, 1, 1)\n",
    "    rgb[1,:,:] += torch.clamp(dist / 1., 0, 1)\n",
    "    rgb[2,:,:] += torch.clamp(dist / -1., 0, 1)\n",
    "    return VF.to_pil_image(rgb)\n",
    "\n",
    "render_sdf_grid(sdf_scene)"
   ]
  },
  {
   "cell_type": "code",
   "execution_count": 196,
   "id": "occasional-rescue",
   "metadata": {},
   "outputs": [
    {
     "name": "stdout",
     "output_type": "stream",
     "text": [
      "casts: 3439326\n"
     ]
    },
    {
     "data": {
      "image/png": "[encoded data removed]",
      "text/plain": [
       "<PIL.Image.Image image mode=RGB size=256x256 at 0x7F5B115B6048>"
      ]
     },
     "execution_count": 196,
     "metadata": {},
     "output_type": "execute_result"
    }
   ],
   "source": [
    "def get_sdf_normal(sdf: Callable, pos: torch.Tensor) -> torch.Tensor:\n",
    "    e = 0.001\n",
    "    return normalize(torch.cat([\n",
    "        (sdf(pos + torch.Tensor([e, 0, 0])) - sdf(pos - torch.Tensor([e, 0, 0]))).reshape(-1, 1),\n",
    "        (sdf(pos + torch.Tensor([0, e, 0])) - sdf(pos - torch.Tensor([0, e, 0]))).reshape(-1, 1),\n",
    "        (sdf(pos + torch.Tensor([0, 0, e])) - sdf(pos - torch.Tensor([0, 0, e]))).reshape(-1, 1),\n",
    "    ], dim=-1))\n",
    "\n",
    "#get_sdf_normal(sdf_scene, torch.Tensor([[1, 0, 0], [0, 1, 0]]))\n",
    "\n",
    "def raymarch(sdf: Callable, pos: torch.Tensor, size: int = 256, as_pil: bool = False):\n",
    "    ray_pos = get_pos_grid(size=size, space=0.2, flat=True) + pos\n",
    "    ray_dir = normalize(get_pos_grid(size=size, space=1., z=1.5, flat=True))\n",
    "    indices = torch.Tensor(list(range(size * size))).type(torch.long)\n",
    "    color_buffer = torch.zeros(size * size, 3)\n",
    "    \n",
    "    num_ray_casts = 0\n",
    "    for i in range(100):\n",
    "        dist = sdf(ray_pos)\n",
    "        num_ray_casts += ray_pos.shape[0]\n",
    "        \n",
    "        # check for surface\n",
    "        is_surface = torch.abs(dist) < .001\n",
    "        \n",
    "        if torch.any(is_surface):\n",
    "            normals = get_sdf_normal(sdf, ray_pos[is_surface])\n",
    "\n",
    "            # assign colors to color buffer\n",
    "            color_buffer[indices[is_surface]] = normals * .5 + .5#torch.Tensor([1, 1, 1])\n",
    "\n",
    "        # remove all rays that hit surface\n",
    "        keep_ray = ~is_surface\n",
    "        indices = indices[keep_ray]\n",
    "        dist = dist[keep_ray]\n",
    "        ray_pos = ray_pos[keep_ray]\n",
    "        ray_dir = ray_dir[keep_ray]\n",
    "                \n",
    "        # forward rays\n",
    "        ray_pos = ray_pos + ray_dir * dist.reshape(-1, 1)\n",
    "    \n",
    "    print(\"casts:\", num_ray_casts)\n",
    "    color_buffer = color_buffer.reshape(size, size, 3)\n",
    "    if as_pil:\n",
    "        return VF.to_pil_image(color_buffer.permute(2, 0, 1))\n",
    "    return color_buffer\n",
    "\n",
    "raymarch(sdf_scene, torch.Tensor([0, .5, -2.]), size=256, as_pil=True)"
   ]
  },
  {
   "cell_type": "code",
   "execution_count": 198,
   "id": "designed-incident",
   "metadata": {},
   "outputs": [
    {
     "data": {
      "text/plain": [
       "tensor(2)"
      ]
     },
     "execution_count": 198,
     "metadata": {},
     "output_type": "execute_result"
    }
   ],
   "source": [
    "\n",
    "torch.count_nonzero(torch.Tensor([True, True, False]))"
   ]
  }
 ],
 "metadata": {
  "kernelspec": {
   "display_name": "Python 3",
   "language": "python",
   "name": "python3"
  },
  "language_info": {
   "codemirror_mode": {
    "name": "ipython",
    "version": 3
   },
   "file_extension": ".py",
   "mimetype": "text/x-python",
   "name": "python",
   "nbconvert_exporter": "python",
   "pygments_lexer": "ipython3",
   "version": "3.6.9"
  }
 },
 "nbformat": 4,
 "nbformat_minor": 5
}
