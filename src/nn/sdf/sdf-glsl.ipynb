{
 "cells": [
  {
   "cell_type": "code",
   "execution_count": 1,
   "id": "elder-wages",
   "metadata": {},
   "outputs": [],
   "source": [
    "from typing import Callable\n",
    "import torch\n",
    "import torch.nn as nn\n",
    "import torch.nn.functional as F\n",
    "import torchvision.transforms.functional as VF\n",
    "\n",
    "from jupylet.app import App\n",
    "from jupylet.shadertoy import Shadertoy\n",
    "\n",
    "from sdf import *\n",
    "from render import *\n",
    "from models import *"
   ]
  },
  {
   "cell_type": "code",
   "execution_count": 2,
   "id": "excited-rebecca",
   "metadata": {},
   "outputs": [],
   "source": [
    "app = App(width=320, height=240)"
   ]
  },
  {
   "cell_type": "code",
   "execution_count": 3,
   "id": "organizational-travel",
   "metadata": {},
   "outputs": [
    {
     "data": {
      "text/plain": [
       "<All keys matched successfully>"
      ]
     },
     "execution_count": 3,
     "metadata": {},
     "output_type": "execute_result"
    }
   ],
   "source": [
    "model = Mat4Net()\n",
    "model.load_state_dict(torch.load(\"model-snapshot.pt\"))"
   ]
  },
  {
   "cell_type": "code",
   "execution_count": 4,
   "id": "charming-quarter",
   "metadata": {
    "scrolled": false
   },
   "outputs": [
    {
     "name": "stdout",
     "output_type": "stream",
     "text": [
      "\n",
      "float nn_dist(in vec3 pos) {\n",
      "        const mat4 weight_0_0 = mat4(-1.2277699708938599, 1.519213318824768, -1.1872285604476929, 1.2413098812103271, -1.108780860900879, -0.8853718042373657, 0.7356535792350769, 1.1389192342758179, 0.11244277656078339, 2.498598575592041, 0.0949987843632698, -0.09940953552722931, -0.232490673661232, 0.9679884314537048, 1.6390388011932373, 0.2377111315727234);\n",
      "    const mat4 weight_0_1 = mat4(-1.5602127313613892, 1.812886357307434, -1.9229179620742798, 1.599096655845642, -2.0006299018859863, -0.2122923731803894, 0.04328341782093048, -0.0741896703839302, 0.1166880875825882, 1.475764513015747, 1.2103097438812256, -0.11480896174907684, 0.9728386998176575, 0.30226218700408936, 0.020459486171603203, 1.6759905815124512);\n",
      "    const mat4 weight_0_2 = mat4(-0.6555724740028381, 1.5137975215911865, -0.17084719240665436, 2.217674493789673, 0.14028114080429077, 1.8049113750457764, 1.4405932426452637, 0.8297991156578064, 1.8818145990371704, -1.5221549272537231, 0.19809263944625854, -1.1912113428115845, -0.06927444040775299, 1.4525870084762573, 0.41206055879592896, -1.6902107000350952);\n",
      "    const mat4 weight_0_3 = mat4(1.048485517501831, -0.19370107352733612, -0.45161160826683044, -0.3034761846065521, 1.3709722757339478, 0.18044538795948029, -2.076353073120117, -1.31208336353302, -0.31250178813934326, 0.005874579306691885, 0.022013630717992783, -1.6713379621505737, 1.478126049041748, -2.597287178039551, -0.15420690178871155, 0.034517016261816025);\n",
      "    const vec4 bias_0_0 = vec4(0.9741178154945374, 0.5607376098632812, -0.6731888651847839, 1.1879225969314575);\n",
      "    const vec4 bias_0_1 = vec4(-1.331605315208435, -0.8644794225692749, 1.7792167663574219, -0.5720339417457581);\n",
      "    const vec4 bias_0_2 = vec4(-1.98802649974823, 0.30269408226013184, -0.6256649494171143, 1.453739881515503);\n",
      "    const vec4 bias_0_3 = vec4(-2.29595947265625, -1.4926435947418213, 1.5253163576126099, 1.858091115951538);\n",
      "    const mat4 weight_1_0 = mat4(-1.1175791025161743, -2.197378158569336, 0.08476871997117996, -0.261135995388031, 0.8656765818595886, 0.1688532829284668, -0.3772282302379608, -1.0032604932785034, -1.7869987487792969, -0.5082027912139893, 0.6620131134986877, -1.685975432395935, -1.0038889646530151, -2.588994264602661, -0.2783471941947937, 0.24977463483810425);\n",
      "    const mat4 weight_1_1 = mat4(-1.0157846212387085, 1.4274156093597412, 1.3979626893997192, 0.8052197694778442, 0.5176126956939697, 0.9150564670562744, -0.6571274399757385, -1.3623095750808716, 0.9371445775032043, 1.4728658199310303, -1.2976820468902588, 0.5700692534446716, -0.6787141561508179, 1.333762764930725, 0.9640423059463501, -1.7810972929000854);\n",
      "    const mat4 weight_1_2 = mat4(0.5273485779762268, -0.412937730550766, 1.9142146110534668, 0.3444446325302124, 1.7921258211135864, -0.2266499400138855, -1.748605728149414, 0.7610929012298584, 0.008539017289876938, -1.047640085220337, 0.4071454107761383, -0.6494200825691223, 0.6560128331184387, 1.1757071018218994, -1.7649927139282227, -1.0367580652236938);\n",
      "    const mat4 weight_1_3 = mat4(-2.0016794204711914, 0.9165791869163513, 1.1604650020599365, 0.9813218712806702, -0.7695199251174927, -1.0044348239898682, 1.5879287719726562, 0.023917561396956444, 2.8168413639068604, -0.09154294431209564, 1.7242991924285889, 0.4413585960865021, -0.2186369150876999, 1.55752694606781, 1.6760759353637695, 0.19206403195858002);\n",
      "    const vec4 bias_1_0 = vec4(-1.2203539609909058, 1.1213152408599854, -2.653219223022461, 0.18255777657032013);\n",
      "    const vec4 bias_1_1 = vec4(2.3308050632476807, -2.1736576557159424, -1.170458436012268, 1.042116641998291);\n",
      "    const vec4 bias_1_2 = vec4(2.229702949523926, 2.1040704250335693, 0.4386175572872162, 0.3860829770565033);\n",
      "    const vec4 bias_1_3 = vec4(-1.6857237815856934, 2.360361337661743, 1.16802978515625, -1.6376887559890747);\n",
      "    const mat4 weight_2_0 = mat4(0.08903655409812927, -2.947944402694702, 1.0754798650741577, -0.8758893609046936, 1.008734941482544, -0.559004008769989, -0.2672080993652344, 1.7079249620437622, 0.13342642784118652, 1.5037975311279297, -1.2579461336135864, -1.008864402770996, -2.1263880729675293, 0.6293387413024902, -0.5790729522705078, -0.5932605266571045);\n",
      "    const mat4 weight_2_1 = mat4(0.5854331254959106, -0.13884107768535614, 0.9244789481163025, -0.6349257826805115, 0.8745511770248413, -1.969370722770691, -0.20323432981967926, -0.03303595259785652, 1.0738214254379272, 1.6739788055419922, 0.75687575340271, 1.0845296382904053, -4.050389289855957, -0.529084324836731, -0.2629338502883911, 2.6444849967956543);\n",
      "    const mat4 weight_2_2 = mat4(-3.6416420936584473, -0.863153874874115, -0.9264519214630127, 1.1170498132705688, -1.0731242895126343, -2.738248586654663, -0.4538448750972748, -1.3856441974639893, 0.9085795283317566, 0.4898969531059265, -3.3652658462524414, -1.680727243423462, -3.8465723991394043, 0.7577223181724548, 0.5355637073516846, 1.9892123937606812);\n",
      "    const mat4 weight_2_3 = mat4(-2.1849615573883057, 0.49925822019577026, -0.30951598286628723, -0.8720701336860657, 0.8485115766525269, -1.7267738580703735, -3.4455316066741943, -0.6209862232208252, -3.7440717220306396, -2.8961434364318848, -2.828356981277466, 1.7652733325958252, -0.07833712548017502, -0.9239482283592224, 0.28004735708236694, -0.7189522981643677);\n",
      "    const vec4 bias_2_0 = vec4(2.994904041290283, -1.2287641763687134, -0.8320966362953186, 1.012965202331543);\n",
      "    const vec4 bias_2_1 = vec4(-0.10487581789493561, -1.682576060295105, -1.2998250722885132, 1.7539935111999512);\n",
      "    const vec4 bias_2_2 = vec4(1.169052004814148, 0.022499579936265945, 1.3130438327789307, -0.8689450025558472);\n",
      "    const vec4 bias_2_3 = vec4(1.8592777252197266, 1.7778867483139038, 0.6933639049530029, 2.1437883377075195);\n",
      "    const mat4 weight_3_0 = mat4(-0.07558949291706085, -0.006296912208199501, 0.12124244123697281, -0.112252376973629, -0.4627516269683838, 0.4726518988609314, -0.151680588722229, -0.4067491888999939, 0.1900268793106079, 0.026655912399291992, 0.06248694658279419, 0.2807825207710266, 0.40579408407211304, 0.04794389009475708, -0.042517006397247314, 0.3778810501098633);\n",
      "    const mat4 weight_3_1 = mat4(-0.11159183084964752, -0.07349959760904312, -0.06569579243659973, -0.0014028501464053988, -0.32881999015808105, -0.35078489780426025, 0.11788207292556763, 0.2059077024459839, 0.12609010934829712, 0.2693214416503906, -0.38105446100234985, 0.22221702337265015, 0.00781559944152832, -0.31101882457733154, 0.385553240776062, 0.2318992018699646);\n",
      "    const mat4 weight_3_2 = mat4(0.013180740177631378, 0.009614217095077038, -0.021298430860042572, 0.02039233036339283, 0.03416621685028076, 0.20583385229110718, -0.32386547327041626, 0.13957148790359497, 0.15228718519210815, 0.21874558925628662, -0.19216185808181763, 0.2142854928970337, 0.08275550603866577, 0.13370126485824585, -0.4959874153137207, 0.2483639121055603);\n",
      "    const mat4 weight_3_3 = mat4(-0.020440423861145973, 0.017286237329244614, 0.01223323680460453, 0.18141619861125946, -0.35765230655670166, 0.015276908874511719, -0.1267595887184143, -0.3931366801261902, -0.24668020009994507, 0.023367106914520264, -0.07854276895523071, 0.21869128942489624, 0.24839717149734497, 0.4361448287963867, -0.4971455931663513, 0.1782832145690918);\n",
      "    const vec4 bias_3_0 = vec4(0.25970736145973206, -0.4324615001678467, -0.4685593247413635, 0.28850555419921875);\n",
      "    \n",
      "    vec4 in_0, in_1, in_2, in_3;\n",
      "    vec4 out_0, out_1, out_2, out_3;\n",
      "    \n",
      "    // layer 0\n",
      "    \n",
      "    in_0 = vec4(pos, pos.x);\n",
      "    out_0 = out_1 = out_2 = out_3 = vec4(0);\n",
      "    out_0 += in_0 * weight_0_0;\n",
      "    out_1 += in_0 * weight_0_1;\n",
      "    out_2 += in_0 * weight_0_2;\n",
      "    out_3 += in_0 * weight_0_3;\n",
      "    out_0 = sin(out_0 + bias_0_0);\n",
      "    out_1 = sin(out_1 + bias_0_1);\n",
      "    out_2 = sin(out_2 + bias_0_2);\n",
      "    out_3 = sin(out_3 + bias_0_3);\n",
      "    \n",
      "    // layer 1\n",
      "    \n",
      "    in_0 = out_0;\n",
      "    in_1 = out_1;\n",
      "    in_2 = out_2;\n",
      "    in_3 = out_3;\n",
      "    out_0 = out_1 = out_2 = out_3 = vec4(0);\n",
      "    out_0 += in_0 * weight_1_0;\n",
      "    out_1 += in_1 * weight_1_1;\n",
      "    out_2 += in_2 * weight_1_2;\n",
      "    out_3 += in_3 * weight_1_3;\n",
      "    out_0 = sin(out_0 + bias_1_0);\n",
      "    out_1 = sin(out_1 + bias_1_1);\n",
      "    out_2 = sin(out_2 + bias_1_2);\n",
      "    out_3 = sin(out_3 + bias_1_3);\n",
      "    \n",
      "    // layer 2\n",
      "    \n",
      "    in_0 = out_0;\n",
      "    in_1 = out_1;\n",
      "    in_2 = out_2;\n",
      "    in_3 = out_3;\n",
      "    out_0 = out_1 = out_2 = out_3 = vec4(0);\n",
      "    out_0 += in_0 * weight_2_0;\n",
      "    out_1 += in_1 * weight_2_1;\n",
      "    out_2 += in_2 * weight_2_2;\n",
      "    out_3 += in_3 * weight_2_3;\n",
      "    out_0 = sin(out_0 + bias_2_0);\n",
      "    out_1 = sin(out_1 + bias_2_1);\n",
      "    out_2 = sin(out_2 + bias_2_2);\n",
      "    out_3 = sin(out_3 + bias_2_3);\n",
      "    \n",
      "    // layer 3\n",
      "    \n",
      "    in_0 = out_0;\n",
      "    in_1 = out_1;\n",
      "    in_2 = out_2;\n",
      "    in_3 = out_3;\n",
      "    out_0 = vec4(0);\n",
      "    out_0 += in_0 * weight_3_0;\n",
      "    out_0 += in_1 * weight_3_1;\n",
      "    out_0 += in_2 * weight_3_2;\n",
      "    out_0 += in_3 * weight_3_3;\n",
      "    out_0 += bias_3_0;\n",
      "    \n",
      "    return out_0.x;\n",
      "}\n",
      "\n"
     ]
    }
   ],
   "source": [
    "def tensor_to_str(t: torch.Tensor) -> str:\n",
    "    return \", \".join(str(float(v)) for v in torch.flatten(t))\n",
    "\n",
    "def generate_glsl(model: Mat4Net):\n",
    "    code = \"\"\n",
    "    max_features = 0\n",
    "    for i, layer in enumerate(model.layers):\n",
    "        max_features = max(max_features, max(layer.n_in, layer.n_out))\n",
    "        for j, w in enumerate(layer.weights):\n",
    "            code += f\"const mat4 weight_{i}_{j} = mat4({tensor_to_str(w)});\\n\"\n",
    "        for j, b in enumerate(layer.biases):\n",
    "            code += f\"const vec4 bias_{i}_{j} = vec4({tensor_to_str(b)});\\n\"\n",
    "    code += \"\\n\"\n",
    "    code += \"vec4 \" + \", \".join(f\"in_{i}\" for i in range(max_features)) + \";\\n\";\n",
    "    code += \"vec4 \" + \", \".join(f\"out_{i}\" for i in range(max_features)) + \";\\n\";\n",
    "\n",
    "    for i, layer in enumerate(model.layers):\n",
    "        code += f\"\\n// layer {i}\\n\\n\"\n",
    "        if i == 0:\n",
    "            code += \"in_0 = vec4(pos, pos.x);\\n\"\n",
    "        else:\n",
    "            code += \"\".join(f\"in_{j} = out_{j};\\n\" for j in range(layer.n_in))\n",
    "            \n",
    "        code += \" = \".join(f\"out_{j}\" for j in range(layer.n_out)) + \" = vec4(0);\\n\"\n",
    "        \n",
    "        for j in range(max(layer.n_in, layer.n_out)):\n",
    "            code += f\"out_{j % layer.n_out} += in_{j % layer.n_in} * weight_{i}_{j};\\n\"\n",
    "        \n",
    "        for j in range(layer.n_out):\n",
    "            if layer.act is None:\n",
    "                code += f\"out_{j} += bias_{i}_{j};\\n\"\n",
    "            else:\n",
    "                code += f\"out_{j} = sin(out_{j} + bias_{i}_{j});\\n\"\n",
    "                \n",
    "    code += \"\\nreturn out_0.x;\\n\"\n",
    "    code = \"\"\"\n",
    "float nn_dist(in vec3 pos) {\n",
    "    %s\n",
    "}\n",
    "\"\"\" % \"\\n\".join(\"    \" + l for l in code.splitlines())\n",
    "    return code\n",
    "\n",
    "code = generate_glsl(model)\n",
    "print(code)"
   ]
  },
  {
   "cell_type": "code",
   "execution_count": 5,
   "id": "olive-microphone",
   "metadata": {},
   "outputs": [],
   "source": [
    "st = Shadertoy(\"\"\"\n",
    "    %(code)s\n",
    "\n",
    "    #line 3\n",
    "    float scene_dist(in vec3 pos) {\n",
    "        //float d = length(pos) - 1.;\n",
    "        float d = nn_dist(pos);\n",
    "        return d;\n",
    "    }\n",
    "    \n",
    "    vec3 scene_norm(in vec3 pos) {\n",
    "        const vec2 e = vec2(0.0001, 0);\n",
    "        return normalize(vec3(\n",
    "            scene_dist(pos + e.xyy) - scene_dist(pos - e.xyy),\n",
    "            scene_dist(pos + e.yxy) - scene_dist(pos - e.yxy),\n",
    "            scene_dist(pos + e.yyx) - scene_dist(pos - e.yyx)\n",
    "        ));\n",
    "    }\n",
    "    \n",
    "    vec2 rotate(in vec2 x, in float a) {\n",
    "        float si = sin(a), co = cos(a);\n",
    "        return vec2(x.x * co - x.y * si, x.x * si + x.y * co);\n",
    "    }\n",
    "    \n",
    "    vec3 rotate_y(in vec3 x, in float a) {\n",
    "        float si = sin(a), co = cos(a);\n",
    "        return vec3(x.x * co - x.z * si, x.y, x.x * si + x.z * co);\n",
    "    }\n",
    "    \n",
    "    vec3 raymarch(in vec3 pos, in vec3 dir) {\n",
    "       vec3 p = pos + vec3(0, 0, -1.+sin(iTime*.91));\n",
    "       for (int i=0; i<100; ++i) {\n",
    "           bool visible = length(p) <= 2.;\n",
    "           vec3 p_trans = rotate_y(p, iTime);\n",
    "           float d = scene_dist(p_trans);\n",
    "           if (abs(d) < 0.001) {\n",
    "               return scene_norm(p_trans) * .5 + .5;\n",
    "           }\n",
    "           p += d * dir;\n",
    "       }\n",
    "       return vec3(0);\n",
    "    }\n",
    "    \n",
    "    void mainImage(out vec4 fragColor, in vec2 fragCoord)\n",
    "    {\n",
    "        vec2 uv = (fragCoord - vec2(%(w)s, %(h)s) * .5) / %(h)s;\n",
    "        \n",
    "        vec3 dir = normalize(vec3(uv, 1));\n",
    "        vec3 col = raymarch(vec3(0, .5, -2), dir);\n",
    "        //vec3 col = vec3(nn_dist(vec3(uv, 0)))-3.;\n",
    "        fragColor = vec4(col,1.0);\n",
    "    }\n",
    "\n",
    "\"\"\" % {\"w\": app.width, \"h\": app.height, \"code\": code})\n",
    "\n",
    "@app.event\n",
    "def render(ct, dt):\n",
    "    app.window.clear()\n",
    "    st.draw(ct, dt)"
   ]
  },
  {
   "cell_type": "code",
   "execution_count": 6,
   "id": "silent-discipline",
   "metadata": {},
   "outputs": [
    {
     "data": {
      "application/vnd.jupyter.widget-view+json": {
       "model_id": "f14787b8ea1046c4b00722bc5bd6995a",
       "version_major": 2,
       "version_minor": 0
      },
      "text/plain": [
       "Image(value=b'\\xff\\xd8\\xff\\xe0\\x00\\x10JFIF\\x00\\x01\\x01\\x00\\x00\\x01\\x00\\x01\\x00\\x00\\xff\\xdb\\x00C\\x00\\x08\\x06\\x0…"
      ]
     },
     "metadata": {},
     "output_type": "display_data"
    }
   ],
   "source": [
    "app.run()"
   ]
  },
  {
   "cell_type": "code",
   "execution_count": 7,
   "id": "brave-disabled",
   "metadata": {},
   "outputs": [
    {
     "data": {
      "text/plain": [
       "vec4( 30, 70, 110, 150 )"
      ]
     },
     "execution_count": 7,
     "metadata": {},
     "output_type": "execute_result"
    }
   ],
   "source": [
    "import glm\n",
    "w = glm.mat4(1, 2, 3, 4, 5, 6, 7, 8, 9, 10, 11, 12, 13, 14, 15, 16)\n",
    "glm.vec4(1, 2, 3, 4) * w"
   ]
  },
  {
   "cell_type": "code",
   "execution_count": 8,
   "id": "universal-property",
   "metadata": {},
   "outputs": [
    {
     "data": {
      "text/plain": [
       "tensor([ 1.,  2.,  3.,  4.,  5.,  6.,  7.,  8.,  9., 10., 11., 12., 13., 14.,\n",
       "        15., 16.])"
      ]
     },
     "execution_count": 8,
     "metadata": {},
     "output_type": "execute_result"
    }
   ],
   "source": [
    "w = torch.Tensor([[1,2,3,4], [5,6,7,8], [9,10,11,12], [13,14,15,16]])\n",
    "F.linear(torch.Tensor([[1,2,3,4]]), w)\n",
    "torch.flatten(w)"
   ]
  }
 ],
 "metadata": {
  "kernelspec": {
   "display_name": "Python 3",
   "language": "python",
   "name": "python3"
  },
  "language_info": {
   "codemirror_mode": {
    "name": "ipython",
    "version": 3
   },
   "file_extension": ".py",
   "mimetype": "text/x-python",
   "name": "python",
   "nbconvert_exporter": "python",
   "pygments_lexer": "ipython3",
   "version": "3.6.9"
  }
 },
 "nbformat": 4,
 "nbformat_minor": 5
}
