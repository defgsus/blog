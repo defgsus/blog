{
 "cells": [
  {
   "cell_type": "code",
   "execution_count": 59,
   "id": "oriented-picnic",
   "metadata": {},
   "outputs": [],
   "source": [
    "import os\n",
    "import sys\n",
    "sys.path.insert(0, \"..\")\n",
    "\n",
    "from tqdm import tqdm\n",
    "import pandas as pd\n",
    "pd.options.plotting.backend = \"plotly\"\n",
    "import numpy as np\n",
    "import plotly\n",
    "import plotly.express as px\n",
    "import plotly.graph_objects as go\n",
    "plotly.io.templates.default = \"plotly_dark\"\n",
    "\n",
    "from lib.cache import FileCache\n",
    "from lib.giterator import Giterator"
   ]
  },
  {
   "cell_type": "code",
   "execution_count": 2,
   "id": "wanted-quarter",
   "metadata": {},
   "outputs": [],
   "source": [
    "def get_all_my_commits():\n",
    "    all_repo_paths = []\n",
    "    for root, dirs, files in tqdm(os.walk(\"/home/bergi/prog/\")):\n",
    "        if \"prog/go/\" in root or \"/env/\" in root:\n",
    "            continue\n",
    "        if \".git\" in dirs:\n",
    "            all_repo_paths.append(root)\n",
    "    \n",
    "    repos = []\n",
    "    for repo_path in tqdm(all_repo_paths):\n",
    "        commits = []\n",
    "        giter = Giterator(repo_path)\n",
    "        email_set = set()\n",
    "        for i, c in enumerate(giter.iter_commits(json_compatible=True)):\n",
    "            email_set.add(c[\"author_email\"])\n",
    "            if (c[\"author_email\"].startswith(\"s.berke\") \n",
    "                or c[\"author_email\"].startswith(\"stefan.berke\")):\n",
    "                commits.append(c)\n",
    "            if i > 1000 and not commits:\n",
    "                print(\"skipping\", repo_path)#, \"authors:\", sorted(email_set))\n",
    "                break\n",
    "        if commits:\n",
    "            repos.append({\n",
    "                \"path\": repo_path,\n",
    "                \"commits\": commits,\n",
    "            })\n",
    "    return repos\n",
    "\n",
    "#repos = get_all_my_commits()\n",
    "#print(len(repos))"
   ]
  },
  {
   "cell_type": "code",
   "execution_count": 8,
   "id": "funky-society",
   "metadata": {},
   "outputs": [],
   "source": [
    "repos = FileCache.execute_json(\n",
    "    \"all-bergi-commits.json\", get_all_my_commits,\n",
    "    #read_cache=False,\n",
    ")\n",
    "repos.sort(key=lambda r: r[\"path\"])"
   ]
  },
  {
   "cell_type": "code",
   "execution_count": 154,
   "id": "conditional-inspector",
   "metadata": {},
   "outputs": [],
   "source": [
    "# hide\n",
    "CATEGORIES = {\n",
    "    \"ideals\": [\"/points/\", \"/botgard/\", \"/kultuerchen\", \"das_kapital\", \"nkbuch\"],\n",
    "    \"money\": [\"/k3/\", \"/schlup/\", \"/bock/\", \"/nk/\"],\n",
    "    \"lib\": [\"django\", \"elastipy\", \"event-sourcing\", \"fritztrack\", \"pyvolution\", \n",
    "            \"pector\"],\n",
    "    \"blog\": [\"blog\", \"agenda90210\", \"/wahl17\", \"afd-chat\", \"bm-wahl\", \"/fefe/\"],   \n",
    "}\n",
    "def get_project_category(path):\n",
    "    for cat, keys in CATEGORIES.items():\n",
    "        for key in keys:\n",
    "            if key in path:\n",
    "                return cat\n",
    "    return \"fun\"\n",
    "\n",
    "#for r in repos:\n",
    "#    print(\"%5d %10s %s\" % (len(r[\"commits\"]), get_project_category(r[\"path\"]), r[\"path\"]))"
   ]
  },
  {
   "cell_type": "code",
   "execution_count": 99,
   "id": "radical-nightlife",
   "metadata": {},
   "outputs": [
    {
     "name": "stdout",
     "output_type": "stream",
     "text": [
      "6703\n"
     ]
    }
   ],
   "source": [
    "commit_hash_set = set()\n",
    "all_commits = []\n",
    "for r in repos:\n",
    "    name = r[\"path\"].split(\"/\")[-1]\n",
    "    for c in r[\"commits\"]:\n",
    "        if c[\"hash\"] in commit_hash_set:\n",
    "            continue\n",
    "        commit_hash_set.add(c[\"hash\"])\n",
    "        if name == \"parking-data\":\n",
    "            if c[\"message\"] == \"add yesterday's numbers\" or \\\n",
    "                    c[\"message\"].startswith(\"add 202\"):\n",
    "                continue\n",
    "        all_commits.append({\n",
    "            \"project\": name,\n",
    "            \"path\": r[\"path\"],\n",
    "            **c,\n",
    "        })\n",
    "print(len(all_commits))"
   ]
  },
  {
   "cell_type": "code",
   "execution_count": 166,
   "id": "transparent-muslim",
   "metadata": {
    "scrolled": false
   },
   "outputs": [],
   "source": [
    "commits_df = (\n",
    "    pd.DataFrame({\n",
    "        \"date\": [c[\"author_date\"] for c in all_commits],\n",
    "        #\"project\": [c[\"project\"] for c in all_commits],\n",
    "        \"category\": [get_project_category(c[\"path\"]) for c in all_commits],\n",
    "        \"message\": [c[\"message\"] for c in all_commits],\n",
    "        \"message_len\": [len(c[\"message\"]) for c in all_commits],\n",
    "        \"files\": [len(c.get(\"changes\", [])) for c in all_commits],\n",
    "        \"add\": [sum(ch[\"additions\"] for ch in c.get(\"changes\", [])) for c in all_commits],\n",
    "        \"del\": [sum(ch[\"deletions\"] for ch in c.get(\"changes\", [])) for c in all_commits],\n",
    "    })\n",
    "    .assign(date=lambda df: pd.to_datetime(df[\"date\"], utc=True))\n",
    "    .sort_values(\"date\", ascending=True)\n",
    "    .set_index([\"date\", \"category\"])\n",
    ")\n",
    "#commits_df\n",
    "#all_commits[0]"
   ]
  },
  {
   "cell_type": "code",
   "execution_count": 165,
   "id": "saving-treasure",
   "metadata": {},
   "outputs": [],
   "source": [
    "#df = commits_df\n",
    "#df= df.iloc[df.index.get_level_values(1) == \"money\"]\n",
    "#df.iloc[df.index.get_level_values(0) < \"2020-11-20\"].tail(50)"
   ]
  },
  {
   "cell_type": "code",
   "execution_count": 175,
   "id": "distributed-reservation",
   "metadata": {},
   "outputs": [
    {
     "data": {
      "application/vnd.plotly.v1+json": {
       "config": {
        "plotlyServerURL": "https://plot.ly"
       },
       "data": [
        {
         "hovertemplate": "category=blog<br>date=%{x}<br>value=%{y}<extra></extra>",
         "legendgroup": "blog",
         "line": {
          "color": "#636efa",
          "dash": "solid"
         },
         "mode": "lines",
         "name": "blog",
         "orientation": "v",
         "showlegend": true,
         "type": "scatter",
         "x": [
          "2016-11-30T00:00:00+00:00",
          "2017-02-28T00:00:00+00:00",
          "2017-05-31T00:00:00+00:00",
          "2017-08-31T00:00:00+00:00",
          "2017-11-30T00:00:00+00:00",
          "2018-02-28T00:00:00+00:00",
          "2018-05-31T00:00:00+00:00",
          "2018-08-31T00:00:00+00:00",
          "2018-11-30T00:00:00+00:00",
          "2019-02-28T00:00:00+00:00",
          "2019-05-31T00:00:00+00:00",
          "2019-08-31T00:00:00+00:00",
          "2019-11-30T00:00:00+00:00",
          "2020-02-29T00:00:00+00:00",
          "2020-05-31T00:00:00+00:00",
          "2020-08-31T00:00:00+00:00",
          "2020-11-30T00:00:00+00:00",
          "2021-02-28T00:00:00+00:00",
          "2021-05-31T00:00:00+00:00"
         ],
         "xaxis": "x",
         "y": [
          0,
          0,
          0,
          230,
          0,
          720,
          670,
          0,
          0,
          0,
          0,
          0,
          0,
          0,
          0,
          0,
          0,
          188,
          3449
         ],
         "yaxis": "y"
        },
        {
         "hovertemplate": "category=fun<br>date=%{x}<br>value=%{y}<extra></extra>",
         "legendgroup": "fun",
         "line": {
          "color": "#EF553B",
          "dash": "solid"
         },
         "mode": "lines",
         "name": "fun",
         "orientation": "v",
         "showlegend": true,
         "type": "scatter",
         "x": [
          "2016-11-30T00:00:00+00:00",
          "2017-02-28T00:00:00+00:00",
          "2017-05-31T00:00:00+00:00",
          "2017-08-31T00:00:00+00:00",
          "2017-11-30T00:00:00+00:00",
          "2018-02-28T00:00:00+00:00",
          "2018-05-31T00:00:00+00:00",
          "2018-08-31T00:00:00+00:00",
          "2018-11-30T00:00:00+00:00",
          "2019-02-28T00:00:00+00:00",
          "2019-05-31T00:00:00+00:00",
          "2019-08-31T00:00:00+00:00",
          "2019-11-30T00:00:00+00:00",
          "2020-02-29T00:00:00+00:00",
          "2020-05-31T00:00:00+00:00",
          "2020-08-31T00:00:00+00:00",
          "2020-11-30T00:00:00+00:00",
          "2021-02-28T00:00:00+00:00",
          "2021-05-31T00:00:00+00:00"
         ],
         "xaxis": "x",
         "y": [
          0,
          0,
          771,
          1418,
          0,
          210,
          2271,
          3319,
          0,
          499,
          67,
          492,
          1047,
          0,
          3281,
          196,
          412,
          3746,
          541
         ],
         "yaxis": "y"
        },
        {
         "hovertemplate": "category=ideals<br>date=%{x}<br>value=%{y}<extra></extra>",
         "legendgroup": "ideals",
         "line": {
          "color": "#00cc96",
          "dash": "solid"
         },
         "mode": "lines",
         "name": "ideals",
         "orientation": "v",
         "showlegend": true,
         "type": "scatter",
         "x": [
          "2016-11-30T00:00:00+00:00",
          "2017-02-28T00:00:00+00:00",
          "2017-05-31T00:00:00+00:00",
          "2017-08-31T00:00:00+00:00",
          "2017-11-30T00:00:00+00:00",
          "2018-02-28T00:00:00+00:00",
          "2018-05-31T00:00:00+00:00",
          "2018-08-31T00:00:00+00:00",
          "2018-11-30T00:00:00+00:00",
          "2019-02-28T00:00:00+00:00",
          "2019-05-31T00:00:00+00:00",
          "2019-08-31T00:00:00+00:00",
          "2019-11-30T00:00:00+00:00",
          "2020-02-29T00:00:00+00:00",
          "2020-05-31T00:00:00+00:00",
          "2020-08-31T00:00:00+00:00",
          "2020-11-30T00:00:00+00:00",
          "2021-02-28T00:00:00+00:00",
          "2021-05-31T00:00:00+00:00"
         ],
         "xaxis": "x",
         "y": [
          3382,
          2950,
          5206,
          349,
          2255,
          3118,
          1018,
          1952,
          391,
          0,
          335,
          0,
          0,
          0,
          0,
          1633,
          4224,
          1418,
          0
         ],
         "yaxis": "y"
        },
        {
         "hovertemplate": "category=lib<br>date=%{x}<br>value=%{y}<extra></extra>",
         "legendgroup": "lib",
         "line": {
          "color": "#ab63fa",
          "dash": "solid"
         },
         "mode": "lines",
         "name": "lib",
         "orientation": "v",
         "showlegend": true,
         "type": "scatter",
         "x": [
          "2016-11-30T00:00:00+00:00",
          "2017-02-28T00:00:00+00:00",
          "2017-05-31T00:00:00+00:00",
          "2017-08-31T00:00:00+00:00",
          "2017-11-30T00:00:00+00:00",
          "2018-02-28T00:00:00+00:00",
          "2018-05-31T00:00:00+00:00",
          "2018-08-31T00:00:00+00:00",
          "2018-11-30T00:00:00+00:00",
          "2019-02-28T00:00:00+00:00",
          "2019-05-31T00:00:00+00:00",
          "2019-08-31T00:00:00+00:00",
          "2019-11-30T00:00:00+00:00",
          "2020-02-29T00:00:00+00:00",
          "2020-05-31T00:00:00+00:00",
          "2020-08-31T00:00:00+00:00",
          "2020-11-30T00:00:00+00:00",
          "2021-02-28T00:00:00+00:00",
          "2021-05-31T00:00:00+00:00"
         ],
         "xaxis": "x",
         "y": [
          153,
          1154,
          0,
          0,
          191,
          69,
          19,
          693,
          61,
          172,
          1113,
          0,
          199,
          973,
          810,
          0,
          0,
          13884,
          63
         ],
         "yaxis": "y"
        },
        {
         "hovertemplate": "category=money<br>date=%{x}<br>value=%{y}<extra></extra>",
         "legendgroup": "money",
         "line": {
          "color": "#FFA15A",
          "dash": "solid"
         },
         "mode": "lines",
         "name": "money",
         "orientation": "v",
         "showlegend": true,
         "type": "scatter",
         "x": [
          "2016-11-30T00:00:00+00:00",
          "2017-02-28T00:00:00+00:00",
          "2017-05-31T00:00:00+00:00",
          "2017-08-31T00:00:00+00:00",
          "2017-11-30T00:00:00+00:00",
          "2018-02-28T00:00:00+00:00",
          "2018-05-31T00:00:00+00:00",
          "2018-08-31T00:00:00+00:00",
          "2018-11-30T00:00:00+00:00",
          "2019-02-28T00:00:00+00:00",
          "2019-05-31T00:00:00+00:00",
          "2019-08-31T00:00:00+00:00",
          "2019-11-30T00:00:00+00:00",
          "2020-02-29T00:00:00+00:00",
          "2020-05-31T00:00:00+00:00",
          "2020-08-31T00:00:00+00:00",
          "2020-11-30T00:00:00+00:00",
          "2021-02-28T00:00:00+00:00",
          "2021-05-31T00:00:00+00:00"
         ],
         "xaxis": "x",
         "y": [
          0,
          3082,
          3556,
          2544,
          4663,
          4424,
          3494,
          7785,
          13994,
          21453,
          31939,
          21708,
          34119,
          23346,
          17083,
          8138,
          14598,
          13244,
          2680
         ],
         "yaxis": "y"
        }
       ],
       "layout": {
        "legend": {
         "title": {
          "text": "category"
         },
         "tracegroupgap": 0
        },
        "margin": {
         "t": 60
        },
        "template": {
         "data": {
          "bar": [
           {
            "error_x": {
             "color": "#f2f5fa"
            },
            "error_y": {
             "color": "#f2f5fa"
            },
            "marker": {
             "line": {
              "color": "rgb(17,17,17)",
              "width": 0.5
             }
            },
            "type": "bar"
           }
          ],
          "barpolar": [
           {
            "marker": {
             "line": {
              "color": "rgb(17,17,17)",
              "width": 0.5
             }
            },
            "type": "barpolar"
           }
          ],
          "carpet": [
           {
            "aaxis": {
             "endlinecolor": "#A2B1C6",
             "gridcolor": "#506784",
             "linecolor": "#506784",
             "minorgridcolor": "#506784",
             "startlinecolor": "#A2B1C6"
            },
            "baxis": {
             "endlinecolor": "#A2B1C6",
             "gridcolor": "#506784",
             "linecolor": "#506784",
             "minorgridcolor": "#506784",
             "startlinecolor": "#A2B1C6"
            },
            "type": "carpet"
           }
          ],
          "choropleth": [
           {
            "colorbar": {
             "outlinewidth": 0,
             "ticks": ""
            },
            "type": "choropleth"
           }
          ],
          "contour": [
           {
            "colorbar": {
             "outlinewidth": 0,
             "ticks": ""
            },
            "colorscale": [
             [
              0,
              "#0d0887"
             ],
             [
              0.1111111111111111,
              "#46039f"
             ],
             [
              0.2222222222222222,
              "#7201a8"
             ],
             [
              0.3333333333333333,
              "#9c179e"
             ],
             [
              0.4444444444444444,
              "#bd3786"
             ],
             [
              0.5555555555555556,
              "#d8576b"
             ],
             [
              0.6666666666666666,
              "#ed7953"
             ],
             [
              0.7777777777777778,
              "#fb9f3a"
             ],
             [
              0.8888888888888888,
              "#fdca26"
             ],
             [
              1,
              "#f0f921"
             ]
            ],
            "type": "contour"
           }
          ],
          "contourcarpet": [
           {
            "colorbar": {
             "outlinewidth": 0,
             "ticks": ""
            },
            "type": "contourcarpet"
           }
          ],
          "heatmap": [
           {
            "colorbar": {
             "outlinewidth": 0,
             "ticks": ""
            },
            "colorscale": [
             [
              0,
              "#0d0887"
             ],
             [
              0.1111111111111111,
              "#46039f"
             ],
             [
              0.2222222222222222,
              "#7201a8"
             ],
             [
              0.3333333333333333,
              "#9c179e"
             ],
             [
              0.4444444444444444,
              "#bd3786"
             ],
             [
              0.5555555555555556,
              "#d8576b"
             ],
             [
              0.6666666666666666,
              "#ed7953"
             ],
             [
              0.7777777777777778,
              "#fb9f3a"
             ],
             [
              0.8888888888888888,
              "#fdca26"
             ],
             [
              1,
              "#f0f921"
             ]
            ],
            "type": "heatmap"
           }
          ],
          "heatmapgl": [
           {
            "colorbar": {
             "outlinewidth": 0,
             "ticks": ""
            },
            "colorscale": [
             [
              0,
              "#0d0887"
             ],
             [
              0.1111111111111111,
              "#46039f"
             ],
             [
              0.2222222222222222,
              "#7201a8"
             ],
             [
              0.3333333333333333,
              "#9c179e"
             ],
             [
              0.4444444444444444,
              "#bd3786"
             ],
             [
              0.5555555555555556,
              "#d8576b"
             ],
             [
              0.6666666666666666,
              "#ed7953"
             ],
             [
              0.7777777777777778,
              "#fb9f3a"
             ],
             [
              0.8888888888888888,
              "#fdca26"
             ],
             [
              1,
              "#f0f921"
             ]
            ],
            "type": "heatmapgl"
           }
          ],
          "histogram": [
           {
            "marker": {
             "colorbar": {
              "outlinewidth": 0,
              "ticks": ""
             }
            },
            "type": "histogram"
           }
          ],
          "histogram2d": [
           {
            "colorbar": {
             "outlinewidth": 0,
             "ticks": ""
            },
            "colorscale": [
             [
              0,
              "#0d0887"
             ],
             [
              0.1111111111111111,
              "#46039f"
             ],
             [
              0.2222222222222222,
              "#7201a8"
             ],
             [
              0.3333333333333333,
              "#9c179e"
             ],
             [
              0.4444444444444444,
              "#bd3786"
             ],
             [
              0.5555555555555556,
              "#d8576b"
             ],
             [
              0.6666666666666666,
              "#ed7953"
             ],
             [
              0.7777777777777778,
              "#fb9f3a"
             ],
             [
              0.8888888888888888,
              "#fdca26"
             ],
             [
              1,
              "#f0f921"
             ]
            ],
            "type": "histogram2d"
           }
          ],
          "histogram2dcontour": [
           {
            "colorbar": {
             "outlinewidth": 0,
             "ticks": ""
            },
            "colorscale": [
             [
              0,
              "#0d0887"
             ],
             [
              0.1111111111111111,
              "#46039f"
             ],
             [
              0.2222222222222222,
              "#7201a8"
             ],
             [
              0.3333333333333333,
              "#9c179e"
             ],
             [
              0.4444444444444444,
              "#bd3786"
             ],
             [
              0.5555555555555556,
              "#d8576b"
             ],
             [
              0.6666666666666666,
              "#ed7953"
             ],
             [
              0.7777777777777778,
              "#fb9f3a"
             ],
             [
              0.8888888888888888,
              "#fdca26"
             ],
             [
              1,
              "#f0f921"
             ]
            ],
            "type": "histogram2dcontour"
           }
          ],
          "mesh3d": [
           {
            "colorbar": {
             "outlinewidth": 0,
             "ticks": ""
            },
            "type": "mesh3d"
           }
          ],
          "parcoords": [
           {
            "line": {
             "colorbar": {
              "outlinewidth": 0,
              "ticks": ""
             }
            },
            "type": "parcoords"
           }
          ],
          "pie": [
           {
            "automargin": true,
            "type": "pie"
           }
          ],
          "scatter": [
           {
            "marker": {
             "line": {
              "color": "#283442"
             }
            },
            "type": "scatter"
           }
          ],
          "scatter3d": [
           {
            "line": {
             "colorbar": {
              "outlinewidth": 0,
              "ticks": ""
             }
            },
            "marker": {
             "colorbar": {
              "outlinewidth": 0,
              "ticks": ""
             }
            },
            "type": "scatter3d"
           }
          ],
          "scattercarpet": [
           {
            "marker": {
             "colorbar": {
              "outlinewidth": 0,
              "ticks": ""
             }
            },
            "type": "scattercarpet"
           }
          ],
          "scattergeo": [
           {
            "marker": {
             "colorbar": {
              "outlinewidth": 0,
              "ticks": ""
             }
            },
            "type": "scattergeo"
           }
          ],
          "scattergl": [
           {
            "marker": {
             "line": {
              "color": "#283442"
             }
            },
            "type": "scattergl"
           }
          ],
          "scattermapbox": [
           {
            "marker": {
             "colorbar": {
              "outlinewidth": 0,
              "ticks": ""
             }
            },
            "type": "scattermapbox"
           }
          ],
          "scatterpolar": [
           {
            "marker": {
             "colorbar": {
              "outlinewidth": 0,
              "ticks": ""
             }
            },
            "type": "scatterpolar"
           }
          ],
          "scatterpolargl": [
           {
            "marker": {
             "colorbar": {
              "outlinewidth": 0,
              "ticks": ""
             }
            },
            "type": "scatterpolargl"
           }
          ],
          "scatterternary": [
           {
            "marker": {
             "colorbar": {
              "outlinewidth": 0,
              "ticks": ""
             }
            },
            "type": "scatterternary"
           }
          ],
          "surface": [
           {
            "colorbar": {
             "outlinewidth": 0,
             "ticks": ""
            },
            "colorscale": [
             [
              0,
              "#0d0887"
             ],
             [
              0.1111111111111111,
              "#46039f"
             ],
             [
              0.2222222222222222,
              "#7201a8"
             ],
             [
              0.3333333333333333,
              "#9c179e"
             ],
             [
              0.4444444444444444,
              "#bd3786"
             ],
             [
              0.5555555555555556,
              "#d8576b"
             ],
             [
              0.6666666666666666,
              "#ed7953"
             ],
             [
              0.7777777777777778,
              "#fb9f3a"
             ],
             [
              0.8888888888888888,
              "#fdca26"
             ],
             [
              1,
              "#f0f921"
             ]
            ],
            "type": "surface"
           }
          ],
          "table": [
           {
            "cells": {
             "fill": {
              "color": "#506784"
             },
             "line": {
              "color": "rgb(17,17,17)"
             }
            },
            "header": {
             "fill": {
              "color": "#2a3f5f"
             },
             "line": {
              "color": "rgb(17,17,17)"
             }
            },
            "type": "table"
           }
          ]
         },
         "layout": {
          "annotationdefaults": {
           "arrowcolor": "#f2f5fa",
           "arrowhead": 0,
           "arrowwidth": 1
          },
          "autotypenumbers": "strict",
          "coloraxis": {
           "colorbar": {
            "outlinewidth": 0,
            "ticks": ""
           }
          },
          "colorscale": {
           "diverging": [
            [
             0,
             "#8e0152"
            ],
            [
             0.1,
             "#c51b7d"
            ],
            [
             0.2,
             "#de77ae"
            ],
            [
             0.3,
             "#f1b6da"
            ],
            [
             0.4,
             "#fde0ef"
            ],
            [
             0.5,
             "#f7f7f7"
            ],
            [
             0.6,
             "#e6f5d0"
            ],
            [
             0.7,
             "#b8e186"
            ],
            [
             0.8,
             "#7fbc41"
            ],
            [
             0.9,
             "#4d9221"
            ],
            [
             1,
             "#276419"
            ]
           ],
           "sequential": [
            [
             0,
             "#0d0887"
            ],
            [
             0.1111111111111111,
             "#46039f"
            ],
            [
             0.2222222222222222,
             "#7201a8"
            ],
            [
             0.3333333333333333,
             "#9c179e"
            ],
            [
             0.4444444444444444,
             "#bd3786"
            ],
            [
             0.5555555555555556,
             "#d8576b"
            ],
            [
             0.6666666666666666,
             "#ed7953"
            ],
            [
             0.7777777777777778,
             "#fb9f3a"
            ],
            [
             0.8888888888888888,
             "#fdca26"
            ],
            [
             1,
             "#f0f921"
            ]
           ],
           "sequentialminus": [
            [
             0,
             "#0d0887"
            ],
            [
             0.1111111111111111,
             "#46039f"
            ],
            [
             0.2222222222222222,
             "#7201a8"
            ],
            [
             0.3333333333333333,
             "#9c179e"
            ],
            [
             0.4444444444444444,
             "#bd3786"
            ],
            [
             0.5555555555555556,
             "#d8576b"
            ],
            [
             0.6666666666666666,
             "#ed7953"
            ],
            [
             0.7777777777777778,
             "#fb9f3a"
            ],
            [
             0.8888888888888888,
             "#fdca26"
            ],
            [
             1,
             "#f0f921"
            ]
           ]
          },
          "colorway": [
           "#636efa",
           "#EF553B",
           "#00cc96",
           "#ab63fa",
           "#FFA15A",
           "#19d3f3",
           "#FF6692",
           "#B6E880",
           "#FF97FF",
           "#FECB52"
          ],
          "font": {
           "color": "#f2f5fa"
          },
          "geo": {
           "bgcolor": "rgb(17,17,17)",
           "lakecolor": "rgb(17,17,17)",
           "landcolor": "rgb(17,17,17)",
           "showlakes": true,
           "showland": true,
           "subunitcolor": "#506784"
          },
          "hoverlabel": {
           "align": "left"
          },
          "hovermode": "closest",
          "mapbox": {
           "style": "dark"
          },
          "paper_bgcolor": "rgb(17,17,17)",
          "plot_bgcolor": "rgb(17,17,17)",
          "polar": {
           "angularaxis": {
            "gridcolor": "#506784",
            "linecolor": "#506784",
            "ticks": ""
           },
           "bgcolor": "rgb(17,17,17)",
           "radialaxis": {
            "gridcolor": "#506784",
            "linecolor": "#506784",
            "ticks": ""
           }
          },
          "scene": {
           "xaxis": {
            "backgroundcolor": "rgb(17,17,17)",
            "gridcolor": "#506784",
            "gridwidth": 2,
            "linecolor": "#506784",
            "showbackground": true,
            "ticks": "",
            "zerolinecolor": "#C8D4E3"
           },
           "yaxis": {
            "backgroundcolor": "rgb(17,17,17)",
            "gridcolor": "#506784",
            "gridwidth": 2,
            "linecolor": "#506784",
            "showbackground": true,
            "ticks": "",
            "zerolinecolor": "#C8D4E3"
           },
           "zaxis": {
            "backgroundcolor": "rgb(17,17,17)",
            "gridcolor": "#506784",
            "gridwidth": 2,
            "linecolor": "#506784",
            "showbackground": true,
            "ticks": "",
            "zerolinecolor": "#C8D4E3"
           }
          },
          "shapedefaults": {
           "line": {
            "color": "#f2f5fa"
           }
          },
          "sliderdefaults": {
           "bgcolor": "#C8D4E3",
           "bordercolor": "rgb(17,17,17)",
           "borderwidth": 1,
           "tickwidth": 0
          },
          "ternary": {
           "aaxis": {
            "gridcolor": "#506784",
            "linecolor": "#506784",
            "ticks": ""
           },
           "baxis": {
            "gridcolor": "#506784",
            "linecolor": "#506784",
            "ticks": ""
           },
           "bgcolor": "rgb(17,17,17)",
           "caxis": {
            "gridcolor": "#506784",
            "linecolor": "#506784",
            "ticks": ""
           }
          },
          "title": {
           "x": 0.05
          },
          "updatemenudefaults": {
           "bgcolor": "#506784",
           "borderwidth": 0
          },
          "xaxis": {
           "automargin": true,
           "gridcolor": "#283442",
           "linecolor": "#506784",
           "ticks": "",
           "title": {
            "standoff": 15
           },
           "zerolinecolor": "#283442",
           "zerolinewidth": 2
          },
          "yaxis": {
           "automargin": true,
           "gridcolor": "#283442",
           "linecolor": "#506784",
           "ticks": "",
           "title": {
            "standoff": 15
           },
           "zerolinecolor": "#283442",
           "zerolinewidth": 2
          }
         }
        },
        "xaxis": {
         "anchor": "y",
         "domain": [
          0,
          1
         ],
         "title": {
          "text": "date"
         }
        },
        "yaxis": {
         "anchor": "x",
         "domain": [
          0,
          1
         ],
         "title": {
          "text": "value"
         }
        }
       }
      },
      "text/html": [
       "<div>                            <div id=\"b812860a-a049-4dc1-b1b0-f3b72e88a0a9\" class=\"plotly-graph-div\" style=\"height:525px; width:100%;\"></div>            <script type=\"text/javascript\">                require([\"plotly\"], function(Plotly) {                    window.PLOTLYENV=window.PLOTLYENV || {};                                    if (document.getElementById(\"b812860a-a049-4dc1-b1b0-f3b72e88a0a9\")) {                    Plotly.newPlot(                        \"b812860a-a049-4dc1-b1b0-f3b72e88a0a9\",                        [{\"hovertemplate\": \"category=blog<br>date=%{x}<br>value=%{y}<extra></extra>\", \"legendgroup\": \"blog\", \"line\": {\"color\": \"#636efa\", \"dash\": \"solid\"}, \"mode\": \"lines\", \"name\": \"blog\", \"orientation\": \"v\", \"showlegend\": true, \"type\": \"scatter\", \"x\": [\"2016-11-30T00:00:00+00:00\", \"2017-02-28T00:00:00+00:00\", \"2017-05-31T00:00:00+00:00\", \"2017-08-31T00:00:00+00:00\", \"2017-11-30T00:00:00+00:00\", \"2018-02-28T00:00:00+00:00\", \"2018-05-31T00:00:00+00:00\", \"2018-08-31T00:00:00+00:00\", \"2018-11-30T00:00:00+00:00\", \"2019-02-28T00:00:00+00:00\", \"2019-05-31T00:00:00+00:00\", \"2019-08-31T00:00:00+00:00\", \"2019-11-30T00:00:00+00:00\", \"2020-02-29T00:00:00+00:00\", \"2020-05-31T00:00:00+00:00\", \"2020-08-31T00:00:00+00:00\", \"2020-11-30T00:00:00+00:00\", \"2021-02-28T00:00:00+00:00\", \"2021-05-31T00:00:00+00:00\"], \"xaxis\": \"x\", \"y\": [0.0, 0.0, 0.0, 230.0, 0.0, 720.0, 670.0, 0.0, 0.0, 0.0, 0.0, 0.0, 0.0, 0.0, 0.0, 0.0, 0.0, 188.0, 3449.0], \"yaxis\": \"y\"}, {\"hovertemplate\": \"category=fun<br>date=%{x}<br>value=%{y}<extra></extra>\", \"legendgroup\": \"fun\", \"line\": {\"color\": \"#EF553B\", \"dash\": \"solid\"}, \"mode\": \"lines\", \"name\": \"fun\", \"orientation\": \"v\", \"showlegend\": true, \"type\": \"scatter\", \"x\": [\"2016-11-30T00:00:00+00:00\", \"2017-02-28T00:00:00+00:00\", \"2017-05-31T00:00:00+00:00\", \"2017-08-31T00:00:00+00:00\", \"2017-11-30T00:00:00+00:00\", \"2018-02-28T00:00:00+00:00\", \"2018-05-31T00:00:00+00:00\", \"2018-08-31T00:00:00+00:00\", \"2018-11-30T00:00:00+00:00\", \"2019-02-28T00:00:00+00:00\", \"2019-05-31T00:00:00+00:00\", \"2019-08-31T00:00:00+00:00\", \"2019-11-30T00:00:00+00:00\", \"2020-02-29T00:00:00+00:00\", \"2020-05-31T00:00:00+00:00\", \"2020-08-31T00:00:00+00:00\", \"2020-11-30T00:00:00+00:00\", \"2021-02-28T00:00:00+00:00\", \"2021-05-31T00:00:00+00:00\"], \"xaxis\": \"x\", \"y\": [0.0, 0.0, 771.0, 1418.0, 0.0, 210.0, 2271.0, 3319.0, 0.0, 499.0, 67.0, 492.0, 1047.0, 0.0, 3281.0, 196.0, 412.0, 3746.0, 541.0], \"yaxis\": \"y\"}, {\"hovertemplate\": \"category=ideals<br>date=%{x}<br>value=%{y}<extra></extra>\", \"legendgroup\": \"ideals\", \"line\": {\"color\": \"#00cc96\", \"dash\": \"solid\"}, \"mode\": \"lines\", \"name\": \"ideals\", \"orientation\": \"v\", \"showlegend\": true, \"type\": \"scatter\", \"x\": [\"2016-11-30T00:00:00+00:00\", \"2017-02-28T00:00:00+00:00\", \"2017-05-31T00:00:00+00:00\", \"2017-08-31T00:00:00+00:00\", \"2017-11-30T00:00:00+00:00\", \"2018-02-28T00:00:00+00:00\", \"2018-05-31T00:00:00+00:00\", \"2018-08-31T00:00:00+00:00\", \"2018-11-30T00:00:00+00:00\", \"2019-02-28T00:00:00+00:00\", \"2019-05-31T00:00:00+00:00\", \"2019-08-31T00:00:00+00:00\", \"2019-11-30T00:00:00+00:00\", \"2020-02-29T00:00:00+00:00\", \"2020-05-31T00:00:00+00:00\", \"2020-08-31T00:00:00+00:00\", \"2020-11-30T00:00:00+00:00\", \"2021-02-28T00:00:00+00:00\", \"2021-05-31T00:00:00+00:00\"], \"xaxis\": \"x\", \"y\": [3382.0, 2950.0, 5206.0, 349.0, 2255.0, 3118.0, 1018.0, 1952.0, 391.0, 0.0, 335.0, 0.0, 0.0, 0.0, 0.0, 1633.0, 4224.0, 1418.0, 0.0], \"yaxis\": \"y\"}, {\"hovertemplate\": \"category=lib<br>date=%{x}<br>value=%{y}<extra></extra>\", \"legendgroup\": \"lib\", \"line\": {\"color\": \"#ab63fa\", \"dash\": \"solid\"}, \"mode\": \"lines\", \"name\": \"lib\", \"orientation\": \"v\", \"showlegend\": true, \"type\": \"scatter\", \"x\": [\"2016-11-30T00:00:00+00:00\", \"2017-02-28T00:00:00+00:00\", \"2017-05-31T00:00:00+00:00\", \"2017-08-31T00:00:00+00:00\", \"2017-11-30T00:00:00+00:00\", \"2018-02-28T00:00:00+00:00\", \"2018-05-31T00:00:00+00:00\", \"2018-08-31T00:00:00+00:00\", \"2018-11-30T00:00:00+00:00\", \"2019-02-28T00:00:00+00:00\", \"2019-05-31T00:00:00+00:00\", \"2019-08-31T00:00:00+00:00\", \"2019-11-30T00:00:00+00:00\", \"2020-02-29T00:00:00+00:00\", \"2020-05-31T00:00:00+00:00\", \"2020-08-31T00:00:00+00:00\", \"2020-11-30T00:00:00+00:00\", \"2021-02-28T00:00:00+00:00\", \"2021-05-31T00:00:00+00:00\"], \"xaxis\": \"x\", \"y\": [153.0, 1154.0, 0.0, 0.0, 191.0, 69.0, 19.0, 693.0, 61.0, 172.0, 1113.0, 0.0, 199.0, 973.0, 810.0, 0.0, 0.0, 13884.0, 63.0], \"yaxis\": \"y\"}, {\"hovertemplate\": \"category=money<br>date=%{x}<br>value=%{y}<extra></extra>\", \"legendgroup\": \"money\", \"line\": {\"color\": \"#FFA15A\", \"dash\": \"solid\"}, \"mode\": \"lines\", \"name\": \"money\", \"orientation\": \"v\", \"showlegend\": true, \"type\": \"scatter\", \"x\": [\"2016-11-30T00:00:00+00:00\", \"2017-02-28T00:00:00+00:00\", \"2017-05-31T00:00:00+00:00\", \"2017-08-31T00:00:00+00:00\", \"2017-11-30T00:00:00+00:00\", \"2018-02-28T00:00:00+00:00\", \"2018-05-31T00:00:00+00:00\", \"2018-08-31T00:00:00+00:00\", \"2018-11-30T00:00:00+00:00\", \"2019-02-28T00:00:00+00:00\", \"2019-05-31T00:00:00+00:00\", \"2019-08-31T00:00:00+00:00\", \"2019-11-30T00:00:00+00:00\", \"2020-02-29T00:00:00+00:00\", \"2020-05-31T00:00:00+00:00\", \"2020-08-31T00:00:00+00:00\", \"2020-11-30T00:00:00+00:00\", \"2021-02-28T00:00:00+00:00\", \"2021-05-31T00:00:00+00:00\"], \"xaxis\": \"x\", \"y\": [0.0, 3082.0, 3556.0, 2544.0, 4663.0, 4424.0, 3494.0, 7785.0, 13994.0, 21453.0, 31939.0, 21708.0, 34119.0, 23346.0, 17083.0, 8138.0, 14598.0, 13244.0, 2680.0], \"yaxis\": \"y\"}],                        {\"legend\": {\"title\": {\"text\": \"category\"}, \"tracegroupgap\": 0}, \"margin\": {\"t\": 60}, \"template\": {\"data\": {\"bar\": [{\"error_x\": {\"color\": \"#f2f5fa\"}, \"error_y\": {\"color\": \"#f2f5fa\"}, \"marker\": {\"line\": {\"color\": \"rgb(17,17,17)\", \"width\": 0.5}}, \"type\": \"bar\"}], \"barpolar\": [{\"marker\": {\"line\": {\"color\": \"rgb(17,17,17)\", \"width\": 0.5}}, \"type\": \"barpolar\"}], \"carpet\": [{\"aaxis\": {\"endlinecolor\": \"#A2B1C6\", \"gridcolor\": \"#506784\", \"linecolor\": \"#506784\", \"minorgridcolor\": \"#506784\", \"startlinecolor\": \"#A2B1C6\"}, \"baxis\": {\"endlinecolor\": \"#A2B1C6\", \"gridcolor\": \"#506784\", \"linecolor\": \"#506784\", \"minorgridcolor\": \"#506784\", \"startlinecolor\": \"#A2B1C6\"}, \"type\": \"carpet\"}], \"choropleth\": [{\"colorbar\": {\"outlinewidth\": 0, \"ticks\": \"\"}, \"type\": \"choropleth\"}], \"contour\": [{\"colorbar\": {\"outlinewidth\": 0, \"ticks\": \"\"}, \"colorscale\": [[0.0, \"#0d0887\"], [0.1111111111111111, \"#46039f\"], [0.2222222222222222, \"#7201a8\"], [0.3333333333333333, \"#9c179e\"], [0.4444444444444444, \"#bd3786\"], [0.5555555555555556, \"#d8576b\"], [0.6666666666666666, \"#ed7953\"], [0.7777777777777778, \"#fb9f3a\"], [0.8888888888888888, \"#fdca26\"], [1.0, \"#f0f921\"]], \"type\": \"contour\"}], \"contourcarpet\": [{\"colorbar\": {\"outlinewidth\": 0, \"ticks\": \"\"}, \"type\": \"contourcarpet\"}], \"heatmap\": [{\"colorbar\": {\"outlinewidth\": 0, \"ticks\": \"\"}, \"colorscale\": [[0.0, \"#0d0887\"], [0.1111111111111111, \"#46039f\"], [0.2222222222222222, \"#7201a8\"], [0.3333333333333333, \"#9c179e\"], [0.4444444444444444, \"#bd3786\"], [0.5555555555555556, \"#d8576b\"], [0.6666666666666666, \"#ed7953\"], [0.7777777777777778, \"#fb9f3a\"], [0.8888888888888888, \"#fdca26\"], [1.0, \"#f0f921\"]], \"type\": \"heatmap\"}], \"heatmapgl\": [{\"colorbar\": {\"outlinewidth\": 0, \"ticks\": \"\"}, \"colorscale\": [[0.0, \"#0d0887\"], [0.1111111111111111, \"#46039f\"], [0.2222222222222222, \"#7201a8\"], [0.3333333333333333, \"#9c179e\"], [0.4444444444444444, \"#bd3786\"], [0.5555555555555556, \"#d8576b\"], [0.6666666666666666, \"#ed7953\"], [0.7777777777777778, \"#fb9f3a\"], [0.8888888888888888, \"#fdca26\"], [1.0, \"#f0f921\"]], \"type\": \"heatmapgl\"}], \"histogram\": [{\"marker\": {\"colorbar\": {\"outlinewidth\": 0, \"ticks\": \"\"}}, \"type\": \"histogram\"}], \"histogram2d\": [{\"colorbar\": {\"outlinewidth\": 0, \"ticks\": \"\"}, \"colorscale\": [[0.0, \"#0d0887\"], [0.1111111111111111, \"#46039f\"], [0.2222222222222222, \"#7201a8\"], [0.3333333333333333, \"#9c179e\"], [0.4444444444444444, \"#bd3786\"], [0.5555555555555556, \"#d8576b\"], [0.6666666666666666, \"#ed7953\"], [0.7777777777777778, \"#fb9f3a\"], [0.8888888888888888, \"#fdca26\"], [1.0, \"#f0f921\"]], \"type\": \"histogram2d\"}], \"histogram2dcontour\": [{\"colorbar\": {\"outlinewidth\": 0, \"ticks\": \"\"}, \"colorscale\": [[0.0, \"#0d0887\"], [0.1111111111111111, \"#46039f\"], [0.2222222222222222, \"#7201a8\"], [0.3333333333333333, \"#9c179e\"], [0.4444444444444444, \"#bd3786\"], [0.5555555555555556, \"#d8576b\"], [0.6666666666666666, \"#ed7953\"], [0.7777777777777778, \"#fb9f3a\"], [0.8888888888888888, \"#fdca26\"], [1.0, \"#f0f921\"]], \"type\": \"histogram2dcontour\"}], \"mesh3d\": [{\"colorbar\": {\"outlinewidth\": 0, \"ticks\": \"\"}, \"type\": \"mesh3d\"}], \"parcoords\": [{\"line\": {\"colorbar\": {\"outlinewidth\": 0, \"ticks\": \"\"}}, \"type\": \"parcoords\"}], \"pie\": [{\"automargin\": true, \"type\": \"pie\"}], \"scatter\": [{\"marker\": {\"line\": {\"color\": \"#283442\"}}, \"type\": \"scatter\"}], \"scatter3d\": [{\"line\": {\"colorbar\": {\"outlinewidth\": 0, \"ticks\": \"\"}}, \"marker\": {\"colorbar\": {\"outlinewidth\": 0, \"ticks\": \"\"}}, \"type\": \"scatter3d\"}], \"scattercarpet\": [{\"marker\": {\"colorbar\": {\"outlinewidth\": 0, \"ticks\": \"\"}}, \"type\": \"scattercarpet\"}], \"scattergeo\": [{\"marker\": {\"colorbar\": {\"outlinewidth\": 0, \"ticks\": \"\"}}, \"type\": \"scattergeo\"}], \"scattergl\": [{\"marker\": {\"line\": {\"color\": \"#283442\"}}, \"type\": \"scattergl\"}], \"scattermapbox\": [{\"marker\": {\"colorbar\": {\"outlinewidth\": 0, \"ticks\": \"\"}}, \"type\": \"scattermapbox\"}], \"scatterpolar\": [{\"marker\": {\"colorbar\": {\"outlinewidth\": 0, \"ticks\": \"\"}}, \"type\": \"scatterpolar\"}], \"scatterpolargl\": [{\"marker\": {\"colorbar\": {\"outlinewidth\": 0, \"ticks\": \"\"}}, \"type\": \"scatterpolargl\"}], \"scatterternary\": [{\"marker\": {\"colorbar\": {\"outlinewidth\": 0, \"ticks\": \"\"}}, \"type\": \"scatterternary\"}], \"surface\": [{\"colorbar\": {\"outlinewidth\": 0, \"ticks\": \"\"}, \"colorscale\": [[0.0, \"#0d0887\"], [0.1111111111111111, \"#46039f\"], [0.2222222222222222, \"#7201a8\"], [0.3333333333333333, \"#9c179e\"], [0.4444444444444444, \"#bd3786\"], [0.5555555555555556, \"#d8576b\"], [0.6666666666666666, \"#ed7953\"], [0.7777777777777778, \"#fb9f3a\"], [0.8888888888888888, \"#fdca26\"], [1.0, \"#f0f921\"]], \"type\": \"surface\"}], \"table\": [{\"cells\": {\"fill\": {\"color\": \"#506784\"}, \"line\": {\"color\": \"rgb(17,17,17)\"}}, \"header\": {\"fill\": {\"color\": \"#2a3f5f\"}, \"line\": {\"color\": \"rgb(17,17,17)\"}}, \"type\": \"table\"}]}, \"layout\": {\"annotationdefaults\": {\"arrowcolor\": \"#f2f5fa\", \"arrowhead\": 0, \"arrowwidth\": 1}, \"autotypenumbers\": \"strict\", \"coloraxis\": {\"colorbar\": {\"outlinewidth\": 0, \"ticks\": \"\"}}, \"colorscale\": {\"diverging\": [[0, \"#8e0152\"], [0.1, \"#c51b7d\"], [0.2, \"#de77ae\"], [0.3, \"#f1b6da\"], [0.4, \"#fde0ef\"], [0.5, \"#f7f7f7\"], [0.6, \"#e6f5d0\"], [0.7, \"#b8e186\"], [0.8, \"#7fbc41\"], [0.9, \"#4d9221\"], [1, \"#276419\"]], \"sequential\": [[0.0, \"#0d0887\"], [0.1111111111111111, \"#46039f\"], [0.2222222222222222, \"#7201a8\"], [0.3333333333333333, \"#9c179e\"], [0.4444444444444444, \"#bd3786\"], [0.5555555555555556, \"#d8576b\"], [0.6666666666666666, \"#ed7953\"], [0.7777777777777778, \"#fb9f3a\"], [0.8888888888888888, \"#fdca26\"], [1.0, \"#f0f921\"]], \"sequentialminus\": [[0.0, \"#0d0887\"], [0.1111111111111111, \"#46039f\"], [0.2222222222222222, \"#7201a8\"], [0.3333333333333333, \"#9c179e\"], [0.4444444444444444, \"#bd3786\"], [0.5555555555555556, \"#d8576b\"], [0.6666666666666666, \"#ed7953\"], [0.7777777777777778, \"#fb9f3a\"], [0.8888888888888888, \"#fdca26\"], [1.0, \"#f0f921\"]]}, \"colorway\": [\"#636efa\", \"#EF553B\", \"#00cc96\", \"#ab63fa\", \"#FFA15A\", \"#19d3f3\", \"#FF6692\", \"#B6E880\", \"#FF97FF\", \"#FECB52\"], \"font\": {\"color\": \"#f2f5fa\"}, \"geo\": {\"bgcolor\": \"rgb(17,17,17)\", \"lakecolor\": \"rgb(17,17,17)\", \"landcolor\": \"rgb(17,17,17)\", \"showlakes\": true, \"showland\": true, \"subunitcolor\": \"#506784\"}, \"hoverlabel\": {\"align\": \"left\"}, \"hovermode\": \"closest\", \"mapbox\": {\"style\": \"dark\"}, \"paper_bgcolor\": \"rgb(17,17,17)\", \"plot_bgcolor\": \"rgb(17,17,17)\", \"polar\": {\"angularaxis\": {\"gridcolor\": \"#506784\", \"linecolor\": \"#506784\", \"ticks\": \"\"}, \"bgcolor\": \"rgb(17,17,17)\", \"radialaxis\": {\"gridcolor\": \"#506784\", \"linecolor\": \"#506784\", \"ticks\": \"\"}}, \"scene\": {\"xaxis\": {\"backgroundcolor\": \"rgb(17,17,17)\", \"gridcolor\": \"#506784\", \"gridwidth\": 2, \"linecolor\": \"#506784\", \"showbackground\": true, \"ticks\": \"\", \"zerolinecolor\": \"#C8D4E3\"}, \"yaxis\": {\"backgroundcolor\": \"rgb(17,17,17)\", \"gridcolor\": \"#506784\", \"gridwidth\": 2, \"linecolor\": \"#506784\", \"showbackground\": true, \"ticks\": \"\", \"zerolinecolor\": \"#C8D4E3\"}, \"zaxis\": {\"backgroundcolor\": \"rgb(17,17,17)\", \"gridcolor\": \"#506784\", \"gridwidth\": 2, \"linecolor\": \"#506784\", \"showbackground\": true, \"ticks\": \"\", \"zerolinecolor\": \"#C8D4E3\"}}, \"shapedefaults\": {\"line\": {\"color\": \"#f2f5fa\"}}, \"sliderdefaults\": {\"bgcolor\": \"#C8D4E3\", \"bordercolor\": \"rgb(17,17,17)\", \"borderwidth\": 1, \"tickwidth\": 0}, \"ternary\": {\"aaxis\": {\"gridcolor\": \"#506784\", \"linecolor\": \"#506784\", \"ticks\": \"\"}, \"baxis\": {\"gridcolor\": \"#506784\", \"linecolor\": \"#506784\", \"ticks\": \"\"}, \"bgcolor\": \"rgb(17,17,17)\", \"caxis\": {\"gridcolor\": \"#506784\", \"linecolor\": \"#506784\", \"ticks\": \"\"}}, \"title\": {\"x\": 0.05}, \"updatemenudefaults\": {\"bgcolor\": \"#506784\", \"borderwidth\": 0}, \"xaxis\": {\"automargin\": true, \"gridcolor\": \"#283442\", \"linecolor\": \"#506784\", \"ticks\": \"\", \"title\": {\"standoff\": 15}, \"zerolinecolor\": \"#283442\", \"zerolinewidth\": 2}, \"yaxis\": {\"automargin\": true, \"gridcolor\": \"#283442\", \"linecolor\": \"#506784\", \"ticks\": \"\", \"title\": {\"standoff\": 15}, \"zerolinecolor\": \"#283442\", \"zerolinewidth\": 2}}}, \"xaxis\": {\"anchor\": \"y\", \"domain\": [0.0, 1.0], \"title\": {\"text\": \"date\"}}, \"yaxis\": {\"anchor\": \"x\", \"domain\": [0.0, 1.0], \"title\": {\"text\": \"value\"}}},                        {\"responsive\": true}                    ).then(function(){\n",
       "                            \n",
       "var gd = document.getElementById('b812860a-a049-4dc1-b1b0-f3b72e88a0a9');\n",
       "var x = new MutationObserver(function (mutations, observer) {{\n",
       "        var display = window.getComputedStyle(gd).display;\n",
       "        if (!display || display === 'none') {{\n",
       "            console.log([gd, 'removed!']);\n",
       "            Plotly.purge(gd);\n",
       "            observer.disconnect();\n",
       "        }}\n",
       "}});\n",
       "\n",
       "// Listen for the removal of the full notebook cells\n",
       "var notebookContainer = gd.closest('#notebook-container');\n",
       "if (notebookContainer) {{\n",
       "    x.observe(notebookContainer, {childList: true});\n",
       "}}\n",
       "\n",
       "// Listen for the clearing of the current output cell\n",
       "var outputEl = gd.closest('.output');\n",
       "if (outputEl) {{\n",
       "    x.observe(outputEl, {childList: true});\n",
       "}}\n",
       "\n",
       "                        })                };                });            </script>        </div>"
      ]
     },
     "metadata": {},
     "output_type": "display_data"
    }
   ],
   "source": [
    "def get_series(commits_df, interval=\"M\"):\n",
    "    df = pd.DataFrame(index=commits_df.index)\n",
    "    df[\"commits\"] = np.clip(commits_df[\"message_len\"], 0, 100)\n",
    "    #print(df.index.duplicated().astype(np.int).sum())\n",
    "    df = df.loc[~df.index.duplicated()]\n",
    "    df = df.unstack(\"category\").droplevel(0, axis=1)\n",
    "    return df.resample(level=0, rule=interval).sum()\n",
    "\n",
    "get_series(commits_df, interval=\"3M\").plot()"
   ]
  },
  {
   "cell_type": "code",
   "execution_count": null,
   "id": "selective-parallel",
   "metadata": {},
   "outputs": [],
   "source": []
  }
 ],
 "metadata": {
  "kernelspec": {
   "display_name": "Python 3",
   "language": "python",
   "name": "python3"
  },
  "language_info": {
   "codemirror_mode": {
    "name": "ipython",
    "version": 3
   },
   "file_extension": ".py",
   "mimetype": "text/x-python",
   "name": "python",
   "nbconvert_exporter": "python",
   "pygments_lexer": "ipython3",
   "version": "3.6.9"
  }
 },
 "nbformat": 4,
 "nbformat_minor": 5
}
