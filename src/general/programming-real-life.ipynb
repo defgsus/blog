{
 "cells": [
  {
   "cell_type": "code",
   "execution_count": 6,
   "id": "mediterranean-overhead",
   "metadata": {},
   "outputs": [],
   "source": [
    "import os\n",
    "import sys\n",
    "sys.path.insert(0, \"..\")\n",
    "\n",
    "from tqdm import tqdm\n",
    "import pandas as pd\n",
    "import numpy as np\n",
    "import plotly.express as px\n",
    "import plotly.graph_objects as go\n",
    "\n",
    "from lib.cache import FileCache\n",
    "from lib.giterator import Giterator"
   ]
  },
  {
   "cell_type": "code",
   "execution_count": 2,
   "id": "french-determination",
   "metadata": {},
   "outputs": [],
   "source": [
    "def get_all_my_commits():\n",
    "    all_repo_paths = []\n",
    "    for root, dirs, files in tqdm(os.walk(\"/home/bergi/prog/\")):\n",
    "        if \".git\" in dirs:\n",
    "            all_repo_paths.append(root)\n",
    "    \n",
    "    repos = []\n",
    "    for repo_path in tqdm(all_repo_paths):\n",
    "        commits = []\n",
    "        giter = Giterator(repo_path)\n",
    "        for i, c in enumerate(giter.iter_commits(json_compatible=True)):\n",
    "            if c[\"author_email\"] == \"s.berke@netzkolchose.de\":\n",
    "                commits.append(c)\n",
    "            if i > 100 and not commits:\n",
    "                break\n",
    "        if commits:\n",
    "            repos.append({\n",
    "                \"path\": repo_path,\n",
    "                \"commits\": commits,\n",
    "            })\n",
    "    return repos\n",
    "\n",
    "#repos = get_all_my_commits()\n",
    "#print(len(repos))"
   ]
  },
  {
   "cell_type": "code",
   "execution_count": 4,
   "id": "imported-concept",
   "metadata": {},
   "outputs": [],
   "source": [
    "repos = FileCache.execute_json(\n",
    "    \"all-bergi-commits.json\", get_all_my_commits,\n",
    ")"
   ]
  },
  {
   "cell_type": "code",
   "execution_count": null,
   "id": "great-geology",
   "metadata": {},
   "outputs": [],
   "source": []
  },
  {
   "cell_type": "code",
   "execution_count": null,
   "id": "correct-uganda",
   "metadata": {},
   "outputs": [],
   "source": []
  }
 ],
 "metadata": {
  "kernelspec": {
   "display_name": "Python 3",
   "language": "python",
   "name": "python3"
  },
  "language_info": {
   "codemirror_mode": {
    "name": "ipython",
    "version": 3
   },
   "file_extension": ".py",
   "mimetype": "text/x-python",
   "name": "python",
   "nbconvert_exporter": "python",
   "pygments_lexer": "ipython3",
   "version": "3.6.9"
  }
 },
 "nbformat": 4,
 "nbformat_minor": 5
}
